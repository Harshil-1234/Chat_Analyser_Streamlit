{
 "cells": [
  {
   "cell_type": "code",
   "execution_count": null,
   "id": "d7f7b613",
   "metadata": {},
   "outputs": [],
   "source": [
    "import re\n",
    "import pandas as pd"
   ]
  },
  {
   "cell_type": "code",
   "execution_count": null,
   "id": "bc3efc79",
   "metadata": {},
   "outputs": [],
   "source": [
    "def preprocess(data):\n",
    "    pattern = '\\d{1,2}/\\d{1,2}/\\d{2},\\s\\d{1,2}:\\d{2}\\s(?:AM|PM)\\s-\\s'\n",
    "    \n",
    "    messages = re.split(pattern,data)[1:]\n",
    "    \n",
    "    dates = re.findall(pattern,data)\n",
    "    dates = [string.replace(\"\\u202f\", \" \") for string in dates]\n",
    "    \n",
    "    #creating a dataframe with two columns\n",
    "    df = pd.DataFrame({'user_message': messages, 'message_date': dates})\n",
    "    # convert message_date type\n",
    "    df['message_date'] = pd.to_datetime(df['message_date'], format='%m/%d/%y, %I:%M %p - ')\n",
    "\n",
    "    df.rename(columns={'message_date': 'date'}, inplace=True)\n",
    "    \n",
    "    #separate user name and messages\n",
    "    users = []\n",
    "    messages = []\n",
    "\n",
    "    for message in df['user_message']:\n",
    "        entry = re.split('([\\w\\W]+?):\\s', message)\n",
    "        if entry[1:]:  # user name\n",
    "            users.append(entry[1])\n",
    "            messages.append(\" \".join(entry[2:]))\n",
    "        else:\n",
    "            users.append('group_notification')\n",
    "            messages.append(entry[0])\n",
    "\n",
    "    df['user'] = users\n",
    "    df['message'] = messages\n",
    "\n",
    "    df.drop(columns=['user_message'],inplace = True)\n",
    "    \n",
    "    df['year'] = df['date'].dt.year\n",
    "    df['month'] = df['date'].dt.month_name()\n",
    "    df['day'] = df['date'].dt.day\n",
    "    df['hour'] = df['date'].dt.hour\n",
    "    df['minute'] = df['date'].dt.minute"
   ]
  }
 ],
 "metadata": {
  "kernelspec": {
   "display_name": "Python 3 (ipykernel)",
   "language": "python",
   "name": "python3"
  },
  "language_info": {
   "codemirror_mode": {
    "name": "ipython",
    "version": 3
   },
   "file_extension": ".py",
   "mimetype": "text/x-python",
   "name": "python",
   "nbconvert_exporter": "python",
   "pygments_lexer": "ipython3",
   "version": "3.10.9"
  }
 },
 "nbformat": 4,
 "nbformat_minor": 5
}
